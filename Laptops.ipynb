{
  "cells": [
    {
      "cell_type": "markdown",
      "metadata": {
        "id": "view-in-github",
        "colab_type": "text"
      },
      "source": [
        "<a href=\"https://colab.research.google.com/github/ProboKrishnacahya/Machine_Learning/blob/main/Laptops.ipynb\" target=\"_parent\"><img src=\"https://colab.research.google.com/assets/colab-badge.svg\" alt=\"Open In Colab\"/></a>"
      ]
    },
    {
      "cell_type": "code",
      "execution_count": null,
      "metadata": {
        "id": "a9TryLFVdWLF"
      },
      "outputs": [],
      "source": [
        "# Import Library\n",
        "from bs4 import BeautifulSoup\n",
        "import requests\n",
        "import csv\n",
        "import pandas as pd"
      ]
    },
    {
      "cell_type": "code",
      "execution_count": null,
      "metadata": {
        "id": "VdAkztNLdWuJ"
      },
      "outputs": [],
      "source": [
        "def webScraping(counter):\n",
        "    # Untuk mengambil data dari semua pagination pada web\n",
        "    penghitung = counter\n",
        "    URL = 'https://www.flipkart.com/search?q=laptops&otracker=search&otracker1=search&marketplace=FLIPKART&as-show=on&as=off&sort=price_asc' + str(penghitung)\n",
        "    # Mengambil isi (konten) web\n",
        "    seedPage = requests.get(URL)\n",
        "    # Parsing data\n",
        "    soup = BeautifulSoup(seedPage.content, \"html.parser\")\n",
        "    # Mendapatkan data dari class yang terdapat di HTML\n",
        "    for div in soup.find_all('div', {'class': \"_2kHMtA\"}):\n",
        "        brand = div.find('div', {'class': \"_4rR01T\"}).text\n",
        "        cpu = div.find('div', {'class': \"fMghEO\"}).find('ul').find_all('li')[0].text\n",
        "        ram = div.find('div', {'class': \"fMghEO\"}).find('ul').find_all('li')[1].text\n",
        "        operating_system = div.find('div', {'class': \"fMghEO\"}).find('ul').find_all('li')[2].text\n",
        "        storage = div.find('div', {'class': \"fMghEO\"}).find('ul').find_all('li')[3].text\n",
        "        screen_size = div.find('div', {'class': \"fMghEO\"}).find('ul').find_all('li')[4].text\n",
        "        benefit = div.find('div', {'class': \"fMghEO\"}).find('ul').find_all('li')[5].text\n",
        "        price = div.find('div', {'class': \"_30jeq3 _1_WHN1\"}).text\n",
        "        # Menyimpan dataset ke dalam file .csv\n",
        "        with open('Laptops.csv', 'a') as f:\n",
        "            writer = csv.writer(f, delimiter=';')\n",
        "            writer.writerow([brand, cpu, ram, operating_system, storage, screen_size, benefit, price, rating])\n",
        "        df = pd.read_csv('Laptops.csv', delimiter=';')\n",
        "        print(df)\n",
        "    # Looping untuk Scraping ke pagination selanjutnya\n",
        "    counter +=1\n",
        "    # Recursive melakukan Scraping ke pagination selanjutnya\n",
        "    webScraping(counter)\n",
        "# Mulai Scraping dari halaman paling awal\n",
        "webScraping(0)"
      ]
    }
  ],
  "metadata": {
    "colab": {
      "provenance": [],
      "include_colab_link": true
    },
    "kernelspec": {
      "display_name": "Python 3",
      "name": "python3"
    },
    "language_info": {
      "name": "python"
    }
  },
  "nbformat": 4,
  "nbformat_minor": 0
}